{
 "cells": [
  {
   "cell_type": "code",
   "execution_count": 1,
   "id": "9c5e1acc",
   "metadata": {},
   "outputs": [
    {
     "name": "stdout",
     "output_type": "stream",
     "text": [
      "(3.5, 25.0)\n"
     ]
    }
   ],
   "source": [
    "def mean(*args):\n",
    "    \"\"\"Returns the mean of all the numbers\"\"\"\n",
    "    total_sum = 0 # Intial sum\n",
    "    n = len(args) # Number of arguments\n",
    "    for x in args:\n",
    "        total_sum = total_sum + x\n",
    "    return total_sum/n\n",
    "print((mean(3, 4), mean(20, 25, 30)))"
   ]
  },
  {
   "cell_type": "code",
   "execution_count": 2,
   "id": "c1808e59",
   "metadata": {},
   "outputs": [
    {
     "name": "stdout",
     "output_type": "stream",
     "text": [
      "The value of a is 10\n",
      "The value of b is 12\n"
     ]
    },
    {
     "data": {
      "text/plain": [
       "(None, None)"
      ]
     },
     "execution_count": 2,
     "metadata": {},
     "output_type": "execute_result"
    }
   ],
   "source": [
    "def easy_print(**x):\n",
    "        for key, value in x.items():\n",
    "            print('The value of ' + \n",
    "                  str(key) + \" is \" + \n",
    "                  str(value))\n",
    "(easy_print(a = 10), easy_print(b = 12))"
   ]
  },
  {
   "cell_type": "code",
   "execution_count": 3,
   "id": "99559569",
   "metadata": {},
   "outputs": [
    {
     "name": "stdout",
     "output_type": "stream",
     "text": [
      "12.777777777777779\n"
     ]
    }
   ],
   "source": [
    "def celsius(x):\n",
    "    \"\"\"Converts the temperature \n",
    "    from Fahrenheit to Celsius\"\"\"\n",
    "    y = (x - 32) * 5 / 9\n",
    "    return y\n",
    "# Converts Fahrenheit to Celsius\n",
    "print(celsius(55))"
   ]
  },
  {
   "cell_type": "code",
   "execution_count": 6,
   "id": "f2d8f46c",
   "metadata": {},
   "outputs": [
    {
     "name": "stdout",
     "output_type": "stream",
     "text": [
      "86.0\n"
     ]
    }
   ],
   "source": [
    "temp = 30\n",
    "def convert_temp(x):\n",
    "    \"\"\"Converts the temperature from Celsius to Fahrenheit\"\"\"\n",
    "    global  temp\n",
    "    temp  = (x * 1.8) + 32\n",
    "convert_temp(temp)\n",
    "print(temp)"
   ]
  },
  {
   "cell_type": "code",
   "execution_count": 7,
   "id": "460f9b5c",
   "metadata": {},
   "outputs": [
    {
     "name": "stdout",
     "output_type": "stream",
     "text": [
      "8\n"
     ]
    }
   ],
   "source": [
    "d, c, b, a = (5, 8, 10, 13)\n",
    "print(c)"
   ]
  },
  {
   "cell_type": "code",
   "execution_count": 8,
   "id": "fd8c0759",
   "metadata": {},
   "outputs": [
    {
     "name": "stdout",
     "output_type": "stream",
     "text": [
      "18\n"
     ]
    }
   ],
   "source": [
    "def add_min(x, y):\n",
    "    \"\"\" This function takes two lists \n",
    "    x and y, and returns the sum of \n",
    "    their minimum elements\"\"\"\n",
    "    z = min(x) + min(y)\n",
    "    return z\n",
    "print(add_min([5, 8, 6], [15, 13, 15]))"
   ]
  },
  {
   "cell_type": "code",
   "execution_count": 12,
   "id": "cd7f5150",
   "metadata": {},
   "outputs": [
    {
     "name": "stdout",
     "output_type": "stream",
     "text": [
      "s can not be a string\n"
     ]
    }
   ],
   "source": [
    "def square(s):\n",
    "    \"\"\"Returns area & perimeter of a square\"\"\"\n",
    "    try:\n",
    "        a = s * s\n",
    "        p = 4 * s \n",
    "        return a, p\n",
    "    except TypeError:\n",
    "        print('s can not be a string')\n",
    "square('10')"
   ]
  },
  {
   "cell_type": "code",
   "execution_count": 13,
   "id": "b8c34e6a",
   "metadata": {},
   "outputs": [
    {
     "name": "stdout",
     "output_type": "stream",
     "text": [
      "(16, 28)\n"
     ]
    }
   ],
   "source": [
    "def list_range(x):\n",
    "    \"\"\"Returns a tuple of the minimum \n",
    "    and maximum elements from a list\"\"\"\n",
    "    min_x = min(x)\n",
    "    max_x = max(x)\n",
    "    a = (min_x, max_x)\n",
    "    return a\n",
    "print(list_range([16, 28, 27, 19]))"
   ]
  },
  {
   "cell_type": "code",
   "execution_count": 14,
   "id": "73a06f56",
   "metadata": {},
   "outputs": [
    {
     "name": "stdout",
     "output_type": "stream",
     "text": [
      "3.0\n"
     ]
    }
   ],
   "source": [
    "def nth_root(n):\n",
    "    def actual_root(x):\n",
    "        root = x ** (1/n)\n",
    "        return root\n",
    "    return actual_root\n",
    "print(nth_root(3)(27))"
   ]
  },
  {
   "cell_type": "code",
   "execution_count": 15,
   "id": "a6b77d49",
   "metadata": {},
   "outputs": [
    {
     "name": "stdout",
     "output_type": "stream",
     "text": [
      "[1, 1, 3]\n"
     ]
    }
   ],
   "source": [
    "def sorted_elements(x, desc=True, n=2):\n",
    "    new_x = sorted(x, reverse=desc)[0:n]\n",
    "    return new_x\n",
    "\n",
    "\n",
    "a= [8,1,4, 1, 4, 3]\n",
    "print(sorted_elements(a, desc= False, n=3))"
   ]
  },
  {
   "cell_type": "code",
   "execution_count": 16,
   "id": "3c9dcd10",
   "metadata": {},
   "outputs": [
    {
     "ename": "NameError",
     "evalue": "name 'z' is not defined",
     "output_type": "error",
     "traceback": [
      "\u001b[1;31m---------------------------------------------------------------------------\u001b[0m",
      "\u001b[1;31mNameError\u001b[0m                                 Traceback (most recent call last)",
      "\u001b[1;32m~\\AppData\\Local\\Temp/ipykernel_29452/3278880685.py\u001b[0m in \u001b[0;36m<module>\u001b[1;34m\u001b[0m\n\u001b[0;32m      4\u001b[0m \u001b[1;33m\u001b[0m\u001b[0m\n\u001b[0;32m      5\u001b[0m \u001b[0msquare\u001b[0m\u001b[1;33m(\u001b[0m\u001b[1;36m5\u001b[0m\u001b[1;33m)\u001b[0m\u001b[1;33m\u001b[0m\u001b[1;33m\u001b[0m\u001b[0m\n\u001b[1;32m----> 6\u001b[1;33m \u001b[0mprint\u001b[0m\u001b[1;33m(\u001b[0m\u001b[0mz\u001b[0m\u001b[1;33m)\u001b[0m\u001b[1;33m\u001b[0m\u001b[1;33m\u001b[0m\u001b[0m\n\u001b[0m",
      "\u001b[1;31mNameError\u001b[0m: name 'z' is not defined"
     ]
    }
   ],
   "source": [
    "def square(y):\n",
    "    z = y ** 2\n",
    "    return z\n",
    "\n",
    "square(5)\n",
    "print(z)"
   ]
  },
  {
   "cell_type": "code",
   "execution_count": 18,
   "id": "862173be",
   "metadata": {},
   "outputs": [
    {
     "ename": "NameError",
     "evalue": "name 'plt' is not defined",
     "output_type": "error",
     "traceback": [
      "\u001b[1;31m---------------------------------------------------------------------------\u001b[0m",
      "\u001b[1;31mNameError\u001b[0m                                 Traceback (most recent call last)",
      "\u001b[1;32m~\\AppData\\Local\\Temp/ipykernel_29452/1394099836.py\u001b[0m in \u001b[0;36m<module>\u001b[1;34m\u001b[0m\n\u001b[1;32m----> 1\u001b[1;33m plt.plot(Belmondo.Year, \n\u001b[0m\u001b[0;32m      2\u001b[0m          \u001b[0mBelmondo\u001b[0m\u001b[1;33m.\u001b[0m\u001b[0mMedals\u001b[0m\u001b[1;33m,\u001b[0m\u001b[1;33m\u001b[0m\u001b[1;33m\u001b[0m\u001b[0m\n\u001b[0;32m      3\u001b[0m          label=\"Stefania Belmondo\")\n\u001b[0;32m      4\u001b[0m plt.plot(Vyalbe.Year, \n\u001b[0;32m      5\u001b[0m          \u001b[0mVyalbe\u001b[0m\u001b[1;33m.\u001b[0m\u001b[0mMedals\u001b[0m\u001b[1;33m,\u001b[0m\u001b[1;33m\u001b[0m\u001b[1;33m\u001b[0m\u001b[0m\n",
      "\u001b[1;31mNameError\u001b[0m: name 'plt' is not defined"
     ]
    }
   ],
   "source": [
    "plt.plot(Belmondo.Year, \n",
    "         Belmondo.Medals, \n",
    "         label=\"Stefania Belmondo\")\n",
    "plt.plot(Vyalbe.Year, \n",
    "         Vyalbe.Medals, \n",
    "         label=\"Yelena Vyalbe\")\n",
    "plt.xlabel(\"Olympic Games Year\")\n",
    "plt.ylabel(\"# Medals\")\n",
    "plt.title(\"Medals per year\")\n",
    "plt.text(1988, 1,\"Vyalbe retires\")\n",
    "plt.legend()\n",
    "plt.show()"
   ]
  },
  {
   "cell_type": "code",
   "execution_count": 19,
   "id": "b7dbcb84",
   "metadata": {},
   "outputs": [
    {
     "ename": "NameError",
     "evalue": "name 'plt' is not defined",
     "output_type": "error",
     "traceback": [
      "\u001b[1;31m---------------------------------------------------------------------------\u001b[0m",
      "\u001b[1;31mNameError\u001b[0m                                 Traceback (most recent call last)",
      "\u001b[1;32m~\\AppData\\Local\\Temp/ipykernel_29452/2423058669.py\u001b[0m in \u001b[0;36m<module>\u001b[1;34m\u001b[0m\n\u001b[1;32m----> 1\u001b[1;33m plt.bar(usa.Year, usa.Gold, \n\u001b[0m\u001b[0;32m      2\u001b[0m         color='gold')\n\u001b[0;32m      3\u001b[0m \u001b[0mplt\u001b[0m\u001b[1;33m.\u001b[0m\u001b[0mbar\u001b[0m\u001b[1;33m(\u001b[0m\u001b[0musa\u001b[0m\u001b[1;33m.\u001b[0m\u001b[0mYear\u001b[0m\u001b[1;33m,\u001b[0m \u001b[0musa\u001b[0m\u001b[1;33m.\u001b[0m\u001b[0mSilver\u001b[0m\u001b[1;33m,\u001b[0m \u001b[0mbottom\u001b[0m\u001b[1;33m=\u001b[0m\u001b[0musa\u001b[0m\u001b[1;33m.\u001b[0m\u001b[0mGold\u001b[0m \u001b[1;33m,\u001b[0m \u001b[0mcolor\u001b[0m\u001b[1;33m=\u001b[0m\u001b[1;34m'silver'\u001b[0m\u001b[1;33m)\u001b[0m\u001b[1;33m\u001b[0m\u001b[1;33m\u001b[0m\u001b[0m\n\u001b[0;32m      4\u001b[0m \u001b[0mplt\u001b[0m\u001b[1;33m.\u001b[0m\u001b[0mtitle\u001b[0m\u001b[1;33m(\u001b[0m\u001b[0mtitle\u001b[0m\u001b[1;33m)\u001b[0m\u001b[1;33m\u001b[0m\u001b[1;33m\u001b[0m\u001b[0m\n\u001b[0;32m      5\u001b[0m \u001b[0mplt\u001b[0m\u001b[1;33m.\u001b[0m\u001b[0mylabel\u001b[0m\u001b[1;33m(\u001b[0m\u001b[1;34m\"Count\"\u001b[0m\u001b[1;33m)\u001b[0m\u001b[1;33m\u001b[0m\u001b[1;33m\u001b[0m\u001b[0m\n",
      "\u001b[1;31mNameError\u001b[0m: name 'plt' is not defined"
     ]
    }
   ],
   "source": [
    "plt.bar(usa.Year, usa.Gold, \n",
    "        color='gold')\n",
    "plt.bar(usa.Year, usa.Silver, bottom=usa.Gold , color='silver')\n",
    "plt.title(title)\n",
    "plt.ylabel(\"Count\")\n",
    "plt.show()"
   ]
  },
  {
   "cell_type": "code",
   "execution_count": 20,
   "id": "cefc4028",
   "metadata": {},
   "outputs": [
    {
     "name": "stdout",
     "output_type": "stream",
     "text": [
      "<generator object <genexpr> at 0x0000020A001D5AC0>\n"
     ]
    }
   ],
   "source": [
    "int_list = [5, -2, -4, 6]\n",
    "print(n for n in int_list if n < 0)"
   ]
  },
  {
   "cell_type": "code",
   "execution_count": 22,
   "id": "a1a78ded",
   "metadata": {},
   "outputs": [
    {
     "data": {
      "text/plain": [
       "{1: 1, 2: 4, 3: 9, 4: 16, 5: 25}"
      ]
     },
     "execution_count": 22,
     "metadata": {},
     "output_type": "execute_result"
    }
   ],
   "source": [
    "x= [1,2,3,4,5]\n",
    "squares = {i: i**2 for i in x}\n",
    "squares"
   ]
  },
  {
   "cell_type": "code",
   "execution_count": null,
   "id": "0c9d0ad0",
   "metadata": {},
   "outputs": [],
   "source": [
    "param_grid = {'n_neighbors':np.arange(1,50)}\n",
    "knn = KNeighborsClassifier()\n",
    "knn_cv = GridSearchCV(knn, param_grid, cv=5)\n",
    "print(param_grid.keys())"
   ]
  }
 ],
 "metadata": {
  "kernelspec": {
   "display_name": "Python 3 (ipykernel)",
   "language": "python",
   "name": "python3"
  },
  "language_info": {
   "codemirror_mode": {
    "name": "ipython",
    "version": 3
   },
   "file_extension": ".py",
   "mimetype": "text/x-python",
   "name": "python",
   "nbconvert_exporter": "python",
   "pygments_lexer": "ipython3",
   "version": "3.9.7"
  }
 },
 "nbformat": 4,
 "nbformat_minor": 5
}
