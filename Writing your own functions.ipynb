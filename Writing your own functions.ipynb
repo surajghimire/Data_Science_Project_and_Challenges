{
 "cells": [
  {
   "cell_type": "code",
   "execution_count": 1,
   "id": "af5ac0a7",
   "metadata": {},
   "outputs": [
    {
     "name": "stdout",
     "output_type": "stream",
     "text": [
      "(100, 50)\n"
     ]
    }
   ],
   "source": [
    "def rectangle(length, width):\n",
    "    \"\"\"Returns the area and \n",
    "    perimeter of a rectangle\"\"\"\n",
    "    a = length * width\n",
    "    p = 2 * (length + width)\n",
    "    return a,p \n",
    "area, perimeter = rectangle(20, 5)\n",
    "print((area, perimeter))"
   ]
  },
  {
   "cell_type": "code",
   "execution_count": 3,
   "id": "166efdb3",
   "metadata": {},
   "outputs": [
    {
     "name": "stdout",
     "output_type": "stream",
     "text": [
      "{'sat': 3, 'fri': 2}\n"
     ]
    }
   ],
   "source": [
    "x = ['sat', 'fri', 'fri', 'sat', 'sat']\n",
    "counts = {}\n",
    "for val in x:\n",
    "    if val in counts.keys():\n",
    "        counts[val] += 1\n",
    "    else:\n",
    "        counts[val] = 1\n",
    "print(counts)"
   ]
  },
  {
   "cell_type": "code",
   "execution_count": null,
   "id": "a6393b46",
   "metadata": {},
   "outputs": [],
   "source": []
  }
 ],
 "metadata": {
  "kernelspec": {
   "display_name": "Python 3 (ipykernel)",
   "language": "python",
   "name": "python3"
  },
  "language_info": {
   "codemirror_mode": {
    "name": "ipython",
    "version": 3
   },
   "file_extension": ".py",
   "mimetype": "text/x-python",
   "name": "python",
   "nbconvert_exporter": "python",
   "pygments_lexer": "ipython3",
   "version": "3.9.7"
  }
 },
 "nbformat": 4,
 "nbformat_minor": 5
}
