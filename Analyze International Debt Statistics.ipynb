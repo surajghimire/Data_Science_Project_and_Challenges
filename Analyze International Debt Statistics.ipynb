{
 "cells": [
  {
   "cell_type": "markdown",
   "id": "6104ee79",
   "metadata": {},
   "source": [
    "#### Write SQL queries to answer interesting questions about international debt using data from The World Bank."
   ]
  },
  {
   "cell_type": "markdown",
   "id": "287b16de",
   "metadata": {},
   "source": [
    "#### It's not that we humans only take debts to manage our necessities. A country may also take debt to manage its economy. For example, infrastructure spending is one costly ingredient required for a country's citizens to lead comfortable lives. The World Bank is the organization that provides debt to countries.\n",
    "\n",
    "In this project, you are going to analyze international debt data collected by The World Bank. The dataset contains information about the amount of debt (in USD) owed by developing countries across several categories. You are going to find the answers to questions like:\n",
    "\n",
    "What is the total amount of debt that is owed by the countries listed in the dataset?\n",
    "Which country owns the maximum amount of debt and what does that amount look like?\n",
    "What is the average amount of debt owed by countries across different debt indicators?\n",
    "The data used in this project is provided by The World Bank. It contains both national and regional debt statistics for several countries across the globe as recorded from 1970 to 2015."
   ]
  },
  {
   "cell_type": "code",
   "execution_count": 1,
   "id": "e18dcd1a",
   "metadata": {},
   "outputs": [
    {
     "ename": "IndentationError",
     "evalue": "unexpected indent (Temp/ipykernel_8328/2237895696.py, line 2)",
     "output_type": "error",
     "traceback": [
      "\u001b[1;36m  File \u001b[1;32m\"C:\\Users\\sghmr\\AppData\\Local\\Temp/ipykernel_8328/2237895696.py\"\u001b[1;36m, line \u001b[1;32m2\u001b[0m\n\u001b[1;33m    indicator_code AS debt_indicator,\u001b[0m\n\u001b[1;37m    ^\u001b[0m\n\u001b[1;31mIndentationError\u001b[0m\u001b[1;31m:\u001b[0m unexpected indent\n"
     ]
    }
   ],
   "source": [
    "SELECT \n",
    "    indicator_code AS debt_indicator,\n",
    "    indicator_name,\n",
    "    AVG(debt) AS average_debt\n",
    "FROM international_debt\n",
    "GROUP BY debt_indicator, indicator_name\n",
    "ORDER BY average_debt DESC\n",
    "LIMIT 10"
   ]
  },
  {
   "cell_type": "code",
   "execution_count": 2,
   "id": "2a0e1d89",
   "metadata": {},
   "outputs": [
    {
     "ename": "SyntaxError",
     "evalue": "invalid syntax (Temp/ipykernel_8328/4081107049.py, line 1)",
     "output_type": "error",
     "traceback": [
      "\u001b[1;36m  File \u001b[1;32m\"C:\\Users\\sghmr\\AppData\\Local\\Temp/ipykernel_8328/4081107049.py\"\u001b[1;36m, line \u001b[1;32m1\u001b[0m\n\u001b[1;33m    -- Join games_sales and reviews\u001b[0m\n\u001b[1;37m            ^\u001b[0m\n\u001b[1;31mSyntaxError\u001b[0m\u001b[1;31m:\u001b[0m invalid syntax\n"
     ]
    }
   ],
   "source": [
    "-- Join games_sales and reviews\n",
    "-- Count the number of games where both critic_score and user_score are null\n",
    "SELECT COUNT(g.game)\n",
    "FROM game_sales g\n",
    "LEFT JOIN reviews r\n",
    "ON g.game = r.game\n",
    "WHERE critic_score IS NULL AND user_score IS NULL;"
   ]
  },
  {
   "cell_type": "code",
   "execution_count": 3,
   "id": "bd58538c",
   "metadata": {},
   "outputs": [
    {
     "ename": "SyntaxError",
     "evalue": "invalid syntax (Temp/ipykernel_8328/2513809494.py, line 1)",
     "output_type": "error",
     "traceback": [
      "\u001b[1;36m  File \u001b[1;32m\"C:\\Users\\sghmr\\AppData\\Local\\Temp/ipykernel_8328/2513809494.py\"\u001b[1;36m, line \u001b[1;32m1\u001b[0m\n\u001b[1;33m    - Select release year and average critic score for each year, rounded and aliased\u001b[0m\n\u001b[1;37m             ^\u001b[0m\n\u001b[1;31mSyntaxError\u001b[0m\u001b[1;31m:\u001b[0m invalid syntax\n"
     ]
    }
   ],
   "source": [
    "- Select release year and average critic score for each year, rounded and aliased\n",
    "-- Join the game_sales and reviews tables\n",
    "-- Group by release year\n",
    "-- Order the data from highest to lowest avg_critic_score and limit to 10 results\n",
    "SELECT g.year, ROUND(AVG(r.critic_score),2) AS avg_critic_score\n",
    "FROM game_sales g\n",
    "INNER JOIN reviews r\n",
    "ON g.game = r.game\n",
    "GROUP BY g.year\n",
    "ORDER BY avg_critic_score DESC\n",
    "LIMIT 10;"
   ]
  },
  {
   "cell_type": "code",
   "execution_count": 4,
   "id": "d4f1409e",
   "metadata": {},
   "outputs": [
    {
     "ename": "SyntaxError",
     "evalue": "invalid syntax (Temp/ipykernel_8328/645542905.py, line 1)",
     "output_type": "error",
     "traceback": [
      "\u001b[1;36m  File \u001b[1;32m\"C:\\Users\\sghmr\\AppData\\Local\\Temp/ipykernel_8328/645542905.py\"\u001b[1;36m, line \u001b[1;32m1\u001b[0m\n\u001b[1;33m    -- Paste your query from the previous task; update it to add a count of games released in each year called num_games\u001b[0m\n\u001b[1;37m             ^\u001b[0m\n\u001b[1;31mSyntaxError\u001b[0m\u001b[1;31m:\u001b[0m invalid syntax\n"
     ]
    }
   ],
   "source": [
    "-- Paste your query from the previous task; update it to add a count of games released in each year called num_games\n",
    "-- Update the query so that it only returns years that have more than four reviewed games\n",
    "SELECT g.year, COUNT(g.game) AS num_games, ROUND(AVG(r.critic_score),2) AS avg_critic_score\n",
    "FROM game_sales g\n",
    "INNER JOIN reviews r\n",
    "ON g.game = r.game\n",
    "GROUP BY g.year\n",
    "HAVING COUNT(g.game) > 4\n",
    "ORDER BY avg_critic_score DESC\n",
    "LIMIT 10;"
   ]
  },
  {
   "cell_type": "code",
   "execution_count": 5,
   "id": "1f76504a",
   "metadata": {},
   "outputs": [
    {
     "ename": "SyntaxError",
     "evalue": "invalid syntax (Temp/ipykernel_8328/1145246136.py, line 1)",
     "output_type": "error",
     "traceback": [
      "\u001b[1;36m  File \u001b[1;32m\"C:\\Users\\sghmr\\AppData\\Local\\Temp/ipykernel_8328/1145246136.py\"\u001b[1;36m, line \u001b[1;32m1\u001b[0m\n\u001b[1;33m    -- Select the year and avg_critic_score for those years that dropped off the critics' favorites list\u001b[0m\n\u001b[1;37m              ^\u001b[0m\n\u001b[1;31mSyntaxError\u001b[0m\u001b[1;31m:\u001b[0m invalid syntax\n"
     ]
    }
   ],
   "source": [
    "-- Select the year and avg_critic_score for those years that dropped off the critics' favorites list\n",
    "-- Order the results from highest to lowest avg_critic_score\n",
    "SELECT year, avg_critic_score\n",
    "FROM top_critic_years\n",
    "EXCEPT\n",
    "SELECT year, avg_critic_score\n",
    "FROM top_critic_years_more_than_four_games\n",
    "ORDER BY avg_critic_score DESC;"
   ]
  },
  {
   "cell_type": "code",
   "execution_count": 6,
   "id": "81a4f952",
   "metadata": {},
   "outputs": [
    {
     "ename": "SyntaxError",
     "evalue": "invalid syntax (Temp/ipykernel_8328/1989117732.py, line 1)",
     "output_type": "error",
     "traceback": [
      "\u001b[1;36m  File \u001b[1;32m\"C:\\Users\\sghmr\\AppData\\Local\\Temp/ipykernel_8328/1989117732.py\"\u001b[1;36m, line \u001b[1;32m1\u001b[0m\n\u001b[1;33m    -- Select year, an average of user_score, and a count of games released in a given year, aliased and rounded\u001b[0m\n\u001b[1;37m              ^\u001b[0m\n\u001b[1;31mSyntaxError\u001b[0m\u001b[1;31m:\u001b[0m invalid syntax\n"
     ]
    }
   ],
   "source": [
    "-- Select year, an average of user_score, and a count of games released in a given year, aliased and rounded\n",
    "-- Include only years with more than four reviewed games; group data by year\n",
    "-- Order data by avg_user_score, and limit to ten results\n",
    "SELECT g.year, COUNT(g.game) AS num_games, ROUND(AVG(r.user_score),2) AS avg_user_score\n",
    "FROM game_sales g\n",
    "INNER JOIN reviews r\n",
    "ON g.game = r.game\n",
    "GROUP BY g.year\n",
    "HAVING COUNT(g.game) > 4\n",
    "ORDER BY avg_user_score DESC\n",
    "LIMIT 10;"
   ]
  },
  {
   "cell_type": "code",
   "execution_count": 7,
   "id": "28828f72",
   "metadata": {},
   "outputs": [
    {
     "name": "stderr",
     "output_type": "stream",
     "text": [
      "UsageError: Cell magic `%%sql` not found.\n"
     ]
    }
   ],
   "source": [
    "%%sql \n",
    "\n",
    "-- Select the year results that appear on both tables\n",
    "SELECT year\n",
    "FROM top_user_years_more_than_four_games\n",
    "INTERSECT\n",
    "SELECT year\n",
    "FROM top_critic_years_more_than_four_games;"
   ]
  },
  {
   "cell_type": "code",
   "execution_count": 8,
   "id": "9eea7f84",
   "metadata": {},
   "outputs": [
    {
     "name": "stderr",
     "output_type": "stream",
     "text": [
      "UsageError: Cell magic `%%sql` not found.\n"
     ]
    }
   ],
   "source": [
    "%%sql \n",
    "\n",
    "-- Select year and sum of games_sold, aliased as total_games_sold; order results by total_games_sold descending\n",
    "-- Filter game_sales based on whether each year is in the list returned in the previous task\n",
    "SELECT g.year, SUM(g.games_sold) AS total_games_sold\n",
    "FROM game_sales g\n",
    "WHERE g.year IN (SELECT year\n",
    "FROM top_user_years_more_than_four_games\n",
    "INTERSECT\n",
    "SELECT year\n",
    "FROM top_critic_years_more_than_four_games)\n",
    "GROUP BY g.year\n",
    "ORDER BY total_games_sold DESC;"
   ]
  },
  {
   "cell_type": "code",
   "execution_count": null,
   "id": "a8db9467",
   "metadata": {},
   "outputs": [],
   "source": []
  }
 ],
 "metadata": {
  "kernelspec": {
   "display_name": "Python 3 (ipykernel)",
   "language": "python",
   "name": "python3"
  },
  "language_info": {
   "codemirror_mode": {
    "name": "ipython",
    "version": 3
   },
   "file_extension": ".py",
   "mimetype": "text/x-python",
   "name": "python",
   "nbconvert_exporter": "python",
   "pygments_lexer": "ipython3",
   "version": "3.9.7"
  }
 },
 "nbformat": 4,
 "nbformat_minor": 5
}
