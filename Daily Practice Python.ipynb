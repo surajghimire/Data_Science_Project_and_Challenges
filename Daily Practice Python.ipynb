{
 "cells": [
  {
   "cell_type": "code",
   "execution_count": 3,
   "id": "dffe1b34",
   "metadata": {},
   "outputs": [
    {
     "name": "stdout",
     "output_type": "stream",
     "text": [
      "s can not be a string\n"
     ]
    }
   ],
   "source": [
    "def square(s):\n",
    "    \"\"\"Returns area & perimeter of a square\"\"\"\n",
    "    try:\n",
    "        a = s * s\n",
    "        p = 4 * s \n",
    "        return a, p\n",
    "    except TypeError:\n",
    "        print('s can not be a string')\n",
    "square('10')"
   ]
  },
  {
   "cell_type": "code",
   "execution_count": 4,
   "id": "3fff5f1a",
   "metadata": {},
   "outputs": [
    {
     "name": "stdout",
     "output_type": "stream",
     "text": [
      "8\n"
     ]
    }
   ],
   "source": [
    "d, c, b, a = (5, 8, 10, 13)\n",
    "print(c)"
   ]
  },
  {
   "cell_type": "code",
   "execution_count": 5,
   "id": "f600dbac",
   "metadata": {},
   "outputs": [
    {
     "data": {
      "text/plain": [
       "9"
      ]
     },
     "execution_count": 5,
     "metadata": {},
     "output_type": "execute_result"
    }
   ],
   "source": [
    "def add_numbers(x, y, z):\n",
    "    a = x + y + z\n",
    "    return a\n",
    "\n",
    "add_numbers(2, 3, 4)"
   ]
  },
  {
   "cell_type": "code",
   "execution_count": 6,
   "id": "d6d5e40d",
   "metadata": {},
   "outputs": [
    {
     "name": "stdout",
     "output_type": "stream",
     "text": [
      "666\n"
     ]
    }
   ],
   "source": [
    "x = 6\n",
    "y = 3\n",
    "print(str(x)* y)"
   ]
  },
  {
   "cell_type": "code",
   "execution_count": 7,
   "id": "df109f93",
   "metadata": {},
   "outputs": [
    {
     "name": "stdout",
     "output_type": "stream",
     "text": [
      "3\n"
     ]
    }
   ],
   "source": [
    "def convert_yards(y, feet = True):\n",
    "    if feet is True:\n",
    "        new_y = y * 3\n",
    "    else:\n",
    "        new_y = y * 36\n",
    "    return new_y\n",
    "\n",
    "print(convert_yards(1))\n"
   ]
  },
  {
   "cell_type": "code",
   "execution_count": null,
   "id": "d217bb2f",
   "metadata": {},
   "outputs": [],
   "source": [
    "def add_max(x, y):\n",
    "    \"\"\" This function takes two lists \n",
    "    x and y, and returns the sum of \n",
    "    their maximum elements\"\"\"\n",
    "    z = max(x) + max(y)\n",
    "    return \n",
    "print(add_max([4, 2, 4], [17, 13, 17]))"
   ]
  }
 ],
 "metadata": {
  "kernelspec": {
   "display_name": "Python 3 (ipykernel)",
   "language": "python",
   "name": "python3"
  },
  "language_info": {
   "codemirror_mode": {
    "name": "ipython",
    "version": 3
   },
   "file_extension": ".py",
   "mimetype": "text/x-python",
   "name": "python",
   "nbconvert_exporter": "python",
   "pygments_lexer": "ipython3",
   "version": "3.9.7"
  }
 },
 "nbformat": 4,
 "nbformat_minor": 5
}
