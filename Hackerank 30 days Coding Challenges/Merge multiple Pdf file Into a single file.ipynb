{
 "cells": [
  {
   "cell_type": "markdown",
   "id": "ee15c7bf",
   "metadata": {},
   "source": [
    "!pip3 install PyPDF2"
   ]
  },
  {
   "cell_type": "code",
   "execution_count": 32,
   "id": "3085cae4",
   "metadata": {},
   "outputs": [],
   "source": [
    "from PyPDF2 import PdfFileMerger, PdfFileReader #, compressContentStreams\n",
    "\n",
    "merger = PdfFileMerger()"
   ]
  },
  {
   "cell_type": "code",
   "execution_count": 33,
   "id": "6a11072e",
   "metadata": {},
   "outputs": [
    {
     "data": {
      "text/plain": [
       "['1_python basic cheetsheet.pdf',\n",
       " '2_numpy basic cheetsheet.pdf',\n",
       " '3_pandas basic cheetsheet.pdf',\n",
       " '4_matplotlib basic cheetsheet.pdf',\n",
       " '5_scikit basic cheetsheet.pdf',\n",
       " '6_bokeh interactive visualization cheetsheet.pdf']"
      ]
     },
     "execution_count": 33,
     "metadata": {},
     "output_type": "execute_result"
    }
   ],
   "source": [
    "from os import listdir\n",
    "from os.path import isfile, join\n",
    "import sys\n",
    "mypath = \"D:/Pcs/\"\n",
    "#mypathG2 = \"C:/Users/SurajG2021/Desktop/M2_NNCode/Data_All/Data_07_G2_269/Train-BP_160_2/\"\n",
    "#mypathmer=\"C:/Users/SurajG2021/Desktop/M2_NNCode/Data_All/Data_07_G2_269/Train-BP_160_2_merged_individual/\"\n",
    "onlyfiles1 = [f for f in listdir(mypath) if isfile(join(mypath, f))]\n",
    "#onlyfiles2 = [f for f in listdir(mypath2) if isfile(join(mypath2, f))]\n",
    "onlyfiles1"
   ]
  },
  {
   "cell_type": "code",
   "execution_count": 34,
   "id": "69bae9e6",
   "metadata": {},
   "outputs": [
    {
     "data": {
      "text/plain": [
       "['D:/Pcs/1_python basic cheetsheet.pdf',\n",
       " 'D:/Pcs/2_numpy basic cheetsheet.pdf',\n",
       " 'D:/Pcs/3_pandas basic cheetsheet.pdf',\n",
       " 'D:/Pcs/4_matplotlib basic cheetsheet.pdf',\n",
       " 'D:/Pcs/5_scikit basic cheetsheet.pdf',\n",
       " 'D:/Pcs/6_bokeh interactive visualization cheetsheet.pdf']"
      ]
     },
     "execution_count": 34,
     "metadata": {},
     "output_type": "execute_result"
    }
   ],
   "source": [
    "of= [mypath + f for f in onlyfiles1]\n",
    "of"
   ]
  },
  {
   "cell_type": "code",
   "execution_count": 35,
   "id": "3a8a74c1",
   "metadata": {},
   "outputs": [],
   "source": [
    "for file in of:\n",
    "    merger.append(PdfFileReader(file, 'rb'))\n",
    "\n",
    "merger.write(\"New_Merged_File.pdf\")"
   ]
  },
  {
   "cell_type": "code",
   "execution_count": 36,
   "id": "61793b69",
   "metadata": {},
   "outputs": [
    {
     "ename": "NameError",
     "evalue": "name 'xrange' is not defined",
     "output_type": "error",
     "traceback": [
      "\u001b[1;31m---------------------------------------------------------------------------\u001b[0m",
      "\u001b[1;31mNameError\u001b[0m                                 Traceback (most recent call last)",
      "\u001b[1;32m~\\AppData\\Local\\Temp/ipykernel_20424/311846793.py\u001b[0m in \u001b[0;36m<module>\u001b[1;34m\u001b[0m\n\u001b[0;32m      2\u001b[0m \u001b[1;32mfor\u001b[0m \u001b[0mpdf\u001b[0m \u001b[1;32min\u001b[0m \u001b[0mof\u001b[0m\u001b[1;33m:\u001b[0m\u001b[1;33m\u001b[0m\u001b[1;33m\u001b[0m\u001b[0m\n\u001b[0;32m      3\u001b[0m     \u001b[0mreader\u001b[0m \u001b[1;33m=\u001b[0m \u001b[0mPyPDF2\u001b[0m\u001b[1;33m.\u001b[0m\u001b[0mPdfFileReader\u001b[0m\u001b[1;33m(\u001b[0m\u001b[0mpdf\u001b[0m\u001b[1;33m)\u001b[0m\u001b[1;33m\u001b[0m\u001b[1;33m\u001b[0m\u001b[0m\n\u001b[1;32m----> 4\u001b[1;33m     \u001b[1;32mfor\u001b[0m \u001b[0mi\u001b[0m \u001b[1;32min\u001b[0m \u001b[0mxrange\u001b[0m\u001b[1;33m(\u001b[0m\u001b[0mreader\u001b[0m\u001b[1;33m.\u001b[0m\u001b[0mnumPages\u001b[0m\u001b[1;33m)\u001b[0m\u001b[1;33m:\u001b[0m\u001b[1;33m\u001b[0m\u001b[1;33m\u001b[0m\u001b[0m\n\u001b[0m\u001b[0;32m      5\u001b[0m         \u001b[0mpage\u001b[0m \u001b[1;33m=\u001b[0m \u001b[0mreader\u001b[0m\u001b[1;33m.\u001b[0m\u001b[0mgetPage\u001b[0m\u001b[1;33m(\u001b[0m\u001b[0mi\u001b[0m\u001b[1;33m)\u001b[0m\u001b[1;33m\u001b[0m\u001b[1;33m\u001b[0m\u001b[0m\n\u001b[0;32m      6\u001b[0m         \u001b[0mpage\u001b[0m\u001b[1;33m.\u001b[0m\u001b[0mcompressContentStreams\u001b[0m\u001b[1;33m(\u001b[0m\u001b[1;33m)\u001b[0m\u001b[1;33m\u001b[0m\u001b[1;33m\u001b[0m\u001b[0m\n",
      "\u001b[1;31mNameError\u001b[0m: name 'xrange' is not defined"
     ]
    }
   ],
   "source": [
    "import PyPDF2\n",
    "for pdf in of:\n",
    "    reader = PyPDF2.PdfFileReader(pdf)\n",
    "    for i in xrange(reader.numPages):\n",
    "        page = reader.getPage(i)\n",
    "        page.compressContentStreams()\n",
    "        writer.addPage(page)\n",
    "\n",
    "with open('test_out2.pdf', 'wb') as f:\n",
    "    writer.write(f)"
   ]
  },
  {
   "cell_type": "code",
   "execution_count": 24,
   "id": "678dab9e",
   "metadata": {},
   "outputs": [
    {
     "name": "stdout",
     "output_type": "stream",
     "text": [
      "Collecting PDFNetPython3\n",
      "  Downloading PDFNetPython3-9.1.0-cp39-cp39-win_amd64.whl (20.9 MB)\n",
      "Installing collected packages: PDFNetPython3\n",
      "Successfully installed PDFNetPython3-9.1.0\n"
     ]
    }
   ],
   "source": [
    "!pip3 install PDFNetPython3"
   ]
  },
  {
   "cell_type": "code",
   "execution_count": 37,
   "id": "528d46ba",
   "metadata": {},
   "outputs": [],
   "source": [
    "\n",
    "# Import Libraries\n",
    "import os\n",
    "import sys\n",
    "from PDFNetPython3.PDFNetPython import PDFDoc, Optimizer, SDFDoc, PDFNet"
   ]
  },
  {
   "cell_type": "code",
   "execution_count": 38,
   "id": "c402acd4",
   "metadata": {},
   "outputs": [],
   "source": [
    "def get_size_format(b, factor=1024, suffix=\"B\"):\n",
    "    \"\"\"\n",
    "    Scale bytes to its proper byte format\n",
    "    e.g:\n",
    "        1253656 => '1.20MB'\n",
    "        1253656678 => '1.17GB'\n",
    "    \"\"\"\n",
    "    for unit in [\"\", \"K\", \"M\", \"G\", \"T\", \"P\", \"E\", \"Z\"]:\n",
    "        if b < factor:\n",
    "            return f\"{b:.2f}{unit}{suffix}\"\n",
    "        b /= factor\n",
    "    return f\"{b:.2f}Y{suffix}\""
   ]
  },
  {
   "cell_type": "code",
   "execution_count": 43,
   "id": "d6c62b21",
   "metadata": {},
   "outputs": [
    {
     "ename": "SyntaxError",
     "evalue": "invalid syntax (Temp/ipykernel_20424/2855957170.py, line 21)",
     "output_type": "error",
     "traceback": [
      "\u001b[1;36m  File \u001b[1;32m\"C:\\Users\\sghmr\\AppData\\Local\\Temp/ipykernel_20424/2855957170.py\"\u001b[1;36m, line \u001b[1;32m21\u001b[0m\n\u001b[1;33m    compressed_size = os.path.getsize(output_file)\u001b[0m\n\u001b[1;37m    ^\u001b[0m\n\u001b[1;31mSyntaxError\u001b[0m\u001b[1;31m:\u001b[0m invalid syntax\n"
     ]
    }
   ],
   "source": [
    "def compress_file(input_file: str, output_file: str):\n",
    "    \"\"\"Compress PDF file\"\"\"\n",
    "    if not output_file:\n",
    "        output_file = input_file\n",
    "    initial_size = os.path.getsize(input_file)\n",
    "    try:\n",
    "        # Initialize the library\n",
    "        PDFNet.Initialize()\n",
    "        doc = PDFDoc(input_file)\n",
    "        # Optimize PDF with the default settings\n",
    "        doc.InitSecurityHandler()\n",
    "        # Reduce PDF size by removing redundant information and compressing data streams\n",
    "        Optimizer.Optimize(doc)\n",
    "        doc.Save(output_file, SDFDoc.e_linearized)\n",
    "        doc.Close()\n",
    "        \"\"\"\n",
    "    except Exception as e:\n",
    "        print(\"Error compress_file=\", e)\n",
    "        doc.Close()\n",
    "        return False \"\"\"\n",
    "    compressed_size = os.path.getsize(output_file)\n",
    "    ratio = 1 - (compressed_size / initial_size)\n",
    "    summary = {\n",
    "        \"Input File\": input_file, \"Initial Size\": get_size_format(initial_size),\n",
    "        \"Output File\": output_file, f\"Compressed Size\": get_size_format(compressed_size),\n",
    "        \"Compression Ratio\": \"{0:.3%}.\".format(ratio)\n",
    "    }\n",
    "    # Printing Summary\n",
    "    print(\"## Summary ########################################################\")\n",
    "    print(\"\\n\".join(\"{}:{}\".format(i, j) for i, j in summary.items()))\n",
    "    print(\"###################################################################\")\n",
    "    return True"
   ]
  },
  {
   "cell_type": "code",
   "execution_count": 45,
   "id": "28a851ae",
   "metadata": {},
   "outputs": [],
   "source": [
    "def compress_file(input_file: str, output_file: str):\n",
    "    \"\"\"Compress PDF file\"\"\"\n",
    "    if not output_file:\n",
    "        output_file = input_file\n",
    "    initial_size = os.path.getsize(input_file)\n",
    "     # Initialize the library\n",
    "    PDFNet.Initialize()\n",
    "    doc = PDFDoc(input_file)\n",
    "    # Optimize PDF with the default settings\n",
    "    doc.InitSecurityHandler()\n",
    "    # Reduce PDF size by removing redundant information and compressing data streams\n",
    "    Optimizer.Optimize(doc)\n",
    "    doc.Save(output_file, SDFDoc.e_linearized)\n",
    "    doc.Close()\n",
    "    \"\"\"\n",
    "    except Exception as e:\n",
    "        print(\"Error compress_file=\", e)\n",
    "        doc.Close()\n",
    "        return False \"\"\"\n",
    "    compressed_size = os.path.getsize(output_file)\n",
    "    ratio = 1 - (compressed_size / initial_size)\n",
    "    summary = {\n",
    "        \"Input File\": input_file, \"Initial Size\": get_size_format(initial_size),\n",
    "        \"Output File\": output_file, f\"Compressed Size\": get_size_format(compressed_size),\n",
    "        \"Compression Ratio\": \"{0:.3%}.\".format(ratio)\n",
    "    }\n",
    "    # Printing Summary\n",
    "    print(\"## Summary ########################################################\")\n",
    "    print(\"\\n\".join(\"{}:{}\".format(i, j) for i, j in summary.items()))\n",
    "    print(\"###################################################################\")\n",
    "    return True"
   ]
  },
  {
   "cell_type": "code",
   "execution_count": 46,
   "id": "9d7823ab",
   "metadata": {},
   "outputs": [
    {
     "ename": "Exception",
     "evalue": "This product must be initialized with a valid key.\nPlease go to https://www.pdftron.com/pws/get-key to obtain a demo key or for more information.",
     "output_type": "error",
     "traceback": [
      "\u001b[1;31m---------------------------------------------------------------------------\u001b[0m",
      "\u001b[1;31mException\u001b[0m                                 Traceback (most recent call last)",
      "\u001b[1;32m~\\AppData\\Local\\Temp/ipykernel_20424/829631203.py\u001b[0m in \u001b[0;36m<module>\u001b[1;34m\u001b[0m\n\u001b[0;32m      4\u001b[0m     \u001b[0moutput_file\u001b[0m \u001b[1;33m=\u001b[0m \u001b[0msys\u001b[0m\u001b[1;33m.\u001b[0m\u001b[0margv\u001b[0m\u001b[1;33m[\u001b[0m\u001b[1;36m2\u001b[0m\u001b[1;33m]\u001b[0m\u001b[1;33m\u001b[0m\u001b[1;33m\u001b[0m\u001b[0m\n\u001b[0;32m      5\u001b[0m     \u001b[1;31m#compress_file(input_file, output_file)\u001b[0m\u001b[1;33m\u001b[0m\u001b[1;33m\u001b[0m\u001b[0m\n\u001b[1;32m----> 6\u001b[1;33m     \u001b[0mcompress_file\u001b[0m\u001b[1;33m(\u001b[0m\u001b[1;34m\"New_Merged_File.pdf\"\u001b[0m\u001b[1;33m,\u001b[0m \u001b[1;34m\"New_Merged_File_compressed.pdf\"\u001b[0m\u001b[1;33m)\u001b[0m\u001b[1;33m\u001b[0m\u001b[1;33m\u001b[0m\u001b[0m\n\u001b[0m",
      "\u001b[1;32m~\\AppData\\Local\\Temp/ipykernel_20424/2626732692.py\u001b[0m in \u001b[0;36mcompress_file\u001b[1;34m(input_file, output_file)\u001b[0m\n\u001b[0;32m      5\u001b[0m     \u001b[0minitial_size\u001b[0m \u001b[1;33m=\u001b[0m \u001b[0mos\u001b[0m\u001b[1;33m.\u001b[0m\u001b[0mpath\u001b[0m\u001b[1;33m.\u001b[0m\u001b[0mgetsize\u001b[0m\u001b[1;33m(\u001b[0m\u001b[0minput_file\u001b[0m\u001b[1;33m)\u001b[0m\u001b[1;33m\u001b[0m\u001b[1;33m\u001b[0m\u001b[0m\n\u001b[0;32m      6\u001b[0m      \u001b[1;31m# Initialize the library\u001b[0m\u001b[1;33m\u001b[0m\u001b[1;33m\u001b[0m\u001b[0m\n\u001b[1;32m----> 7\u001b[1;33m     \u001b[0mPDFNet\u001b[0m\u001b[1;33m.\u001b[0m\u001b[0mInitialize\u001b[0m\u001b[1;33m(\u001b[0m\u001b[1;33m)\u001b[0m\u001b[1;33m\u001b[0m\u001b[1;33m\u001b[0m\u001b[0m\n\u001b[0m\u001b[0;32m      8\u001b[0m     \u001b[0mdoc\u001b[0m \u001b[1;33m=\u001b[0m \u001b[0mPDFDoc\u001b[0m\u001b[1;33m(\u001b[0m\u001b[0minput_file\u001b[0m\u001b[1;33m)\u001b[0m\u001b[1;33m\u001b[0m\u001b[1;33m\u001b[0m\u001b[0m\n\u001b[0;32m      9\u001b[0m     \u001b[1;31m# Optimize PDF with the default settings\u001b[0m\u001b[1;33m\u001b[0m\u001b[1;33m\u001b[0m\u001b[0m\n",
      "\u001b[1;31mException\u001b[0m: This product must be initialized with a valid key.\nPlease go to https://www.pdftron.com/pws/get-key to obtain a demo key or for more information."
     ]
    }
   ],
   "source": [
    "if __name__ == \"__main__\":\n",
    "    # Parsing command line arguments entered by user\n",
    "    input_file = sys.argv[1]\n",
    "    output_file = sys.argv[2]\n",
    "    #compress_file(input_file, output_file)\n",
    "    compress_file(\"New_Merged_File.pdf\", \"New_Merged_File_compressed.pdf\")"
   ]
  },
  {
   "cell_type": "code",
   "execution_count": 30,
   "id": "b9eee53a",
   "metadata": {},
   "outputs": [
    {
     "name": "stdout",
     "output_type": "stream",
     "text": [
      " Volume in drive C is Windows\n",
      " Volume Serial Number is C0E7-3F74\n",
      "\n",
      " Directory of C:\\Users\\sghmr\\Desktop\\Online lessons\\Data_Science_Project_and_Challenges\\Hackerank 30 days Coding Challenges\n",
      "\n",
      "19/12/2021  05:45    <DIR>          .\n",
      "16/12/2021  20:21    <DIR>          ..\n",
      "18/12/2021  15:59    <DIR>          .ipynb_checkpoints\n",
      "18/12/2021  20:26             3,869 Building tkinter app.ipynb\n",
      "18/12/2021  15:36        12,732,929 Data_Science_Cheatsheet_2022_By_DataCamp_Compiled_by_Suraj_Ghimire.pdf\n",
      "17/12/2021  13:27           215,780 Day 2_ Question_Operators_HackerRank.pdf\n",
      "17/12/2021  13:19           340,152 Day 6_ Question_Let's Review _ HackerRank.pdf\n",
      "18/12/2021  08:37            14,013 Hackerank 30 days of Coding.ipynb\n",
      "17/12/2021  08:19             2,633 Hackerank_Day_1_Data_Types.py\n",
      "17/12/2021  13:41               742 Hackerank_Day_2_Operators.py\n",
      "19/12/2021  05:45            16,245 Merge multiple Pdf file Into a single file.ipynb\n",
      "               8 File(s)     13,326,363 bytes\n",
      "               3 Dir(s)  111,888,416,768 bytes free\n"
     ]
    }
   ],
   "source": [
    "ls"
   ]
  },
  {
   "cell_type": "code",
   "execution_count": null,
   "id": "b1922484",
   "metadata": {},
   "outputs": [],
   "source": []
  }
 ],
 "metadata": {
  "kernelspec": {
   "display_name": "Python 3 (ipykernel)",
   "language": "python",
   "name": "python3"
  },
  "language_info": {
   "codemirror_mode": {
    "name": "ipython",
    "version": 3
   },
   "file_extension": ".py",
   "mimetype": "text/x-python",
   "name": "python",
   "nbconvert_exporter": "python",
   "pygments_lexer": "ipython3",
   "version": "3.9.7"
  }
 },
 "nbformat": 4,
 "nbformat_minor": 5
}
