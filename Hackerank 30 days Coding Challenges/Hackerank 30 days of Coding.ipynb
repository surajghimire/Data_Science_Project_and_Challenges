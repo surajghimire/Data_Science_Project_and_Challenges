{
 "cells": [
  {
   "cell_type": "markdown",
   "id": "ef5777c5",
   "metadata": {},
   "source": [
    "\n",
    "\"\"\"\n",
    "## Hackerrank day 1\n",
    "\n",
    "Objective\n",
    "Today, we're discussing data types. Check out the Tutorial tab for learning materials and an instructional video!\n",
    "\n",
    "Task\n",
    "Complete the code in the editor below. The variables , , and  are already declared and initialized for you. You must:\n",
    "\n",
    "Declare  variables: one of type int, one of type double, and one of type String.\n",
    "Read  lines of input from stdin (according to the sequence given in the Input Format section below) and initialize your  variables.\n",
    "Use the  operator to perform the following operations:\n",
    "Print the sum of  plus your int variable on a new line.\n",
    "Print the sum of  plus your double variable to a scale of one decimal place on a new line.\n",
    "Concatenate  with the string you read as input and print the result on a new line.\n",
    "Note: If you are using a language that doesn't support using  for string concatenation (e.g.: C), you can just print one variable immediately following the other on the same line. The string provided in your editor must be printed first, immediately followed by the string you read as input.\n",
    "\n",
    "Input Format\n",
    "\n",
    "The first line contains an integer that you must sum with .\n",
    "The second line contains a double that you must sum with .\n",
    "The third line contains a string that you must concatenate with .\n",
    "\n",
    "Output Format\n",
    "\n",
    "Print the sum of both integers on the first line, the sum of both doubles (scaled to  decimal place) on the second line, and then the two concatenated strings on the third line.\n",
    "\n",
    "Sample Input\n",
    "\n",
    "12\n",
    "4.0\n",
    "is the best place to learn and practice coding!\n",
    "Sample Output\n",
    "\n",
    "16\n",
    "8.0\n",
    "HackerRank is the best place to learn and practice coding!\n",
    "Explanation\n",
    "\n",
    "When we sum the integers  and , we get the integer .\n",
    "When we sum the floating-point numbers  and , we get .\n",
    "When we concatenate HackerRank with is the best place to learn and practice coding!, we get HackerRank is the best place to learn and practice coding!.\n",
    "\n",
    "You will not pass this challenge if you attempt to assign the Sample Case values to your variables instead of following the instructions above and reading input from stdin.\n",
    "\"\"\"\n"
   ]
  },
  {
   "cell_type": "code",
   "execution_count": 3,
   "id": "d11790fb",
   "metadata": {},
   "outputs": [
    {
     "name": "stdout",
     "output_type": "stream",
     "text": [
      "5\n",
      "6.9\n",
      "I love\n",
      "Solution starts here\n",
      "9\n",
      "10.9\n",
      "HackerRank I love\n"
     ]
    }
   ],
   "source": [
    "\n",
    "i = 4\n",
    "d = 4.0\n",
    "s = 'HackerRank '\n",
    "# Declare second integer, double, and String variables.\n",
    "j= None\n",
    "e= None\n",
    "t= None\n",
    "# Read and save an integer, double, and String to your variables.\n",
    "j= int(input())\n",
    "e= float(input())\n",
    "t= str(input())\n",
    "# Print the sum of both integer variables on a new line.\n",
    "\n",
    "print(\"Solution starts here\")\n",
    "print(i+j)\n",
    "# Print the sum of the double variables on a new line.\n",
    "print(d + e)\n",
    "# Concatenate and print the String variables on a new line\n",
    "# The 's' variable above should be printed first.\n",
    "print(s+t)"
   ]
  },
  {
   "cell_type": "markdown",
   "id": "b6e78ba8",
   "metadata": {},
   "source": [
    "## Hackerank  Day 2"
   ]
  },
  {
   "cell_type": "code",
   "execution_count": null,
   "id": "2c370bf2",
   "metadata": {},
   "outputs": [],
   "source": []
  },
  {
   "cell_type": "code",
   "execution_count": 19,
   "id": "72062963",
   "metadata": {},
   "outputs": [
    {
     "name": "stdout",
     "output_type": "stream",
     "text": [
      "Enter meal_cost\n",
      "55\n",
      "Enter tip percent\n",
      "12\n",
      "Enter tax percent\n",
      "43\n",
      "The final meal price of the meal is \n",
      "85\n"
     ]
    }
   ],
   "source": [
    "#!/bin/python3\n",
    "\n",
    "import math\n",
    "import os\n",
    "import random\n",
    "import re\n",
    "import sys\n",
    "\n",
    "#\n",
    "# Complete the 'solve' function below.\n",
    "#\n",
    "# The function accepts following parameters:\n",
    "#  1. DOUBLE meal_cost\n",
    "#  2. INTEGER tip_percent\n",
    "#  3. INTEGER tax_percent\n",
    "#\n",
    "\n",
    "def solve(meal_cost, tip_percent, tax_percent):\n",
    "    # Write your code here\n",
    "    meal_price= round(meal_cost*(100.0+ tip_percent+ tax_percent)/100)\n",
    "    print(\"The final meal price of the meal is \")\n",
    "    print(meal_price)\n",
    "    return None\n",
    "\n",
    "if __name__ == '__main__':\n",
    "    print(\"Enter meal_cost\")\n",
    "    meal_cost = float(input().strip())\n",
    "    print(\"Enter tip percent\")\n",
    "\n",
    "    tip_percent = int(input().strip())\n",
    "    print(\"Enter tax percent\")\n",
    "\n",
    "    tax_percent = int(input().strip())\n",
    "\n",
    "    solve(meal_cost, tip_percent, tax_percent)\n"
   ]
  },
  {
   "cell_type": "markdown",
   "id": "c28e9a67",
   "metadata": {},
   "source": [
    "## Day 3: Intro to Conditional Statements"
   ]
  },
  {
   "cell_type": "code",
   "execution_count": 29,
   "id": "4cf6c930",
   "metadata": {},
   "outputs": [],
   "source": [
    "#!/bin/python3\n",
    "\n",
    "import math\n",
    "import os\n",
    "import random\n",
    "import re\n",
    "import sys\n",
    "\n",
    "def check_detail(n):\n",
    "    if n%2!=0:\n",
    "        print(\"Weird\")\n",
    "    elif n in range(2,6):\n",
    "        print(\"Not Weird\")\n",
    "    elif n in range(6,21):\n",
    "        print(\"Weird\")\n",
    "    elif n > 20:\n",
    "        print(\"Not Weird\")\n",
    "\n",
    "if __name__ == '__main__':\n",
    "    N = int(input().strip())\n",
    "    check_detail(N)\n"
   ]
  },
  {
   "cell_type": "code",
   "execution_count": null,
   "id": "80bbd19a",
   "metadata": {},
   "outputs": [],
   "source": []
  },
  {
   "cell_type": "markdown",
   "id": "327ac289",
   "metadata": {},
   "source": [
    "## Day 4: Class vs. Instance"
   ]
  },
  {
   "cell_type": "code",
   "execution_count": null,
   "id": "d10444cb",
   "metadata": {},
   "outputs": [],
   "source": [
    "class Person:\n",
    "    def __init__(self,initialAge):\n",
    "        # Add some more code to run some checks on initialAge\n",
    "        if initialAge > 0:\n",
    "            self.age= initialAge\n",
    "        else:\n",
    "            print(\"Age is not valid, setting age to 0.\")\n",
    "            self.age = 0\n",
    "    def amIOld(self):\n",
    "        # Do some computations in here and print out the correct statement to the console\n",
    "        if self.age <13:\n",
    "            print(\"You are young.\")\n",
    "        elif self.age <18:\n",
    "            print(\"You are a teenager.\")\n",
    "        else :\n",
    "            print(\"You are old.\")\n",
    "    def yearPasses(self):\n",
    "        # Increment the age of the person in here\n",
    "        self.age +=1\n",
    "\n",
    "t = int(input())\n",
    "for i in range(0, t):\n",
    "    age = int(input())         \n",
    "    p = Person(age)  \n",
    "    p.amIOld()\n",
    "    for j in range(0, 3):\n",
    "        p.yearPasses()       \n",
    "    p.amIOld()\n",
    "    print(\"\")"
   ]
  },
  {
   "cell_type": "markdown",
   "id": "845b8e90",
   "metadata": {},
   "source": [
    "## Day 5: Loops"
   ]
  },
  {
   "cell_type": "code",
   "execution_count": 32,
   "id": "4a655b31",
   "metadata": {},
   "outputs": [
    {
     "name": "stdout",
     "output_type": "stream",
     "text": [
      "5\n",
      "5 x 1 = 5\n",
      "5 x 2 = 10\n",
      "5 x 3 = 15\n",
      "5 x 4 = 20\n",
      "5 x 5 = 25\n",
      "5 x 6 = 30\n",
      "5 x 7 = 35\n",
      "5 x 8 = 40\n",
      "5 x 9 = 45\n",
      "5 x 10 = 50\n"
     ]
    }
   ],
   "source": [
    "#!/bin/python3\n",
    "\n",
    "import math\n",
    "import os\n",
    "import random\n",
    "import re\n",
    "import sys\n",
    "\n",
    "\n",
    "\n",
    "if __name__ == '__main__':\n",
    "    n = int(input().strip())\n",
    "    for i in range(1, 11):\n",
    "        print(\"{} x {} = {}\".format(n,i,n*i))"
   ]
  },
  {
   "cell_type": "code",
   "execution_count": null,
   "id": "b66acfb8",
   "metadata": {},
   "outputs": [],
   "source": []
  },
  {
   "cell_type": "code",
   "execution_count": null,
   "id": "130d0df2",
   "metadata": {},
   "outputs": [],
   "source": []
  },
  {
   "cell_type": "code",
   "execution_count": null,
   "id": "75cde67d",
   "metadata": {},
   "outputs": [],
   "source": []
  },
  {
   "cell_type": "markdown",
   "id": "af593b10",
   "metadata": {},
   "source": [
    "## Day 6: Let's Review"
   ]
  },
  {
   "cell_type": "markdown",
   "id": "f54ff0b7",
   "metadata": {},
   "source": [
    "Objective\n",
    "Today we will expand our knowledge of strings, combining it with what we have already learned about loops. Check out the Tutorial tab for learning materials and an instructional video.\n",
    "\n",
    "Task\n",
    "Given a string, , of length  that is indexed from  to , print its even-indexed and odd-indexed characters as  space-separated strings on a single line (see the Sample below for more detail).\n",
    "\n",
    "Note:  is considered to be an even index.\n",
    "\n",
    "Example\n",
    "\n",
    "\n",
    "Print abc def\n",
    "\n",
    "Input Format\n",
    "\n",
    "The first line contains an integer,  (the number of test cases).\n",
    "Each line  of the  subsequent lines contain a string, .\n",
    "\n",
    "Constraints\n",
    "\n",
    "Output Format\n",
    "\n",
    "For each String  (where ), print 's even-indexed characters, followed by a space, followed by 's odd-indexed characters.\n",
    "\n",
    "Sample Input\n",
    "\n",
    "2\n",
    "Hacker\n",
    "Rank\n",
    "Sample Output\n",
    "\n",
    "Hce akr\n",
    "Rn ak\n",
    "Explanation\n",
    "\n",
    "Test Case 0: \n",
    "\n",
    "\n",
    "The even indices are , , and , and the odd indices are , , and . We then print a single line of  space-separated strings; the first string contains the ordered characters from 's even indices (), and the second string contains the ordered characters from 's odd indices ().\n",
    "\n",
    "Test Case 1: \n",
    "\n",
    "\n",
    "\n",
    "\n",
    "The even indices are  and , and the odd indices are  and . We then print a single line of  space-separated strings; the first string contains the ordered characters from 's even indices (), and the second string contains the ordered characters from 's odd indices ()."
   ]
  },
  {
   "cell_type": "code",
   "execution_count": 16,
   "id": "2ac67454",
   "metadata": {},
   "outputs": [
    {
     "name": "stdout",
     "output_type": "stream",
     "text": [
      "2\n",
      "Suraj\n",
      "Srj ua\n",
      "Ranjita\n",
      "Rnia ajt\n"
     ]
    }
   ],
   "source": [
    "# Enter your code here. Read input from STDIN. Print output to STDOUT\n",
    "#taking the input of the number of Strings \n",
    "T = int(input())\n",
    "s= None\n",
    "for i in range(T):\n",
    "    #taking input of string s\n",
    "    s= str(input())\n",
    "    \n",
    "    # The below line has two parts 1. string[::2] & 2. string[1::2].\n",
    "    # General format is [start:stop:step].\n",
    "    # 1. string[::2] basically means that start from 0 to the end of the String     skipping 2 characters hence taking all even strings \n",
    "    # 2. string[1::2] same as the above but we start from 1 and not 0 \n",
    "    print((s[::2]),s[1::2])"
   ]
  },
  {
   "cell_type": "code",
   "execution_count": 24,
   "id": "72aa46b3",
   "metadata": {},
   "outputs": [
    {
     "name": "stdout",
     "output_type": "stream",
     "text": [
      "231\n"
     ]
    }
   ],
   "source": [
    "S=\" 231   \"\n",
    "N = int(S.strip())\n",
    "print(N)"
   ]
  },
  {
   "cell_type": "markdown",
   "id": "8c77754d",
   "metadata": {},
   "source": [
    "## Day 7: Arrays"
   ]
  },
  {
   "cell_type": "markdown",
   "id": "9b886138",
   "metadata": {},
   "source": [
    "Given an array A of N  integers, print A's elements in reverse order as a single line of space-separated numbers."
   ]
  },
  {
   "cell_type": "code",
   "execution_count": 35,
   "id": "b5f8b821",
   "metadata": {},
   "outputs": [
    {
     "name": "stdout",
     "output_type": "stream",
     "text": [
      "4 5 7 8 9\n",
      "9 8 7 5 4 "
     ]
    }
   ],
   "source": [
    "#!/bin/python3\n",
    "\n",
    "import math\n",
    "import os\n",
    "import random\n",
    "import re\n",
    "import sys\n",
    "\n",
    "\n",
    "\n",
    "if __name__ == '__main__':\n",
    "    n = int(input().strip())\n",
    "\n",
    "    arr = list(map(int, input().rstrip().split()))\n",
    "    arr.reverse()\n",
    "\n",
    "    for num in arr:\n",
    "        print(num, end= \" \")\n",
    "\n"
   ]
  },
  {
   "cell_type": "code",
   "execution_count": null,
   "id": "65a686d4",
   "metadata": {},
   "outputs": [],
   "source": []
  }
 ],
 "metadata": {
  "kernelspec": {
   "display_name": "Python 3 (ipykernel)",
   "language": "python",
   "name": "python3"
  },
  "language_info": {
   "codemirror_mode": {
    "name": "ipython",
    "version": 3
   },
   "file_extension": ".py",
   "mimetype": "text/x-python",
   "name": "python",
   "nbconvert_exporter": "python",
   "pygments_lexer": "ipython3",
   "version": "3.9.7"
  }
 },
 "nbformat": 4,
 "nbformat_minor": 5
}
